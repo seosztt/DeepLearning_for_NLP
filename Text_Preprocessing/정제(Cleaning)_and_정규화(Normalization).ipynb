{
  "nbformat": 4,
  "nbformat_minor": 0,
  "metadata": {
    "colab": {
      "name": "정제(Cleaning) and 정규화(Normalization).ipynb",
      "provenance": [],
      "collapsed_sections": [],
      "authorship_tag": "ABX9TyMbFslFlXcOoE5AwW4Phznd",
      "include_colab_link": true
    },
    "kernelspec": {
      "name": "python3",
      "display_name": "Python 3"
    },
    "language_info": {
      "name": "python"
    }
  },
  "cells": [
    {
      "cell_type": "markdown",
      "metadata": {
        "id": "view-in-github",
        "colab_type": "text"
      },
      "source": [
        "<a href=\"https://colab.research.google.com/github/seosztt/NLP_study/blob/master/Text_Preprocessing/%EC%A0%95%EC%A0%9C(Cleaning)_and_%EC%A0%95%EA%B7%9C%ED%99%94(Normalization).ipynb\" target=\"_parent\"><img src=\"https://colab.research.google.com/assets/colab-badge.svg\" alt=\"Open In Colab\"/></a>"
      ]
    },
    {
      "cell_type": "markdown",
      "source": [
        "# 불필요한 단어의 제거 (길이가 짧은 단어)\n"
      ],
      "metadata": {
        "id": "yXs1HgjgDwZi"
      }
    },
    {
      "cell_type": "code",
      "execution_count": null,
      "metadata": {
        "id": "gooxFXwJveVo",
        "colab": {
          "base_uri": "https://localhost:8080/"
        },
        "outputId": "3e1580a1-9b51-4d22-be5f-c49eec0204c0"
      },
      "outputs": [
        {
          "output_type": "stream",
          "name": "stdout",
          "text": [
            " was wondering anyone out there could enlighten this car.\n"
          ]
        }
      ],
      "source": [
        "import re\n",
        "text = \"I was wondering if anyone out there could enlighten me on this car.\"\n",
        "\n",
        "# 길이가 1~2인 단어들을 정규 표현식을 이용하여 삭제\n",
        "shortword = re.compile(r'\\W*\\b\\w{1,2}\\b')\n",
        "print(shortword.sub('', text))"
      ]
    }
  ]
}